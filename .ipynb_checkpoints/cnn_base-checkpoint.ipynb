{
 "cells": [
  {
   "cell_type": "code",
   "execution_count": 78,
   "metadata": {},
   "outputs": [],
   "source": [
    "import torch\n",
    "import torch.nn as nn\n",
    "import torch.nn.functional as F"
   ]
  },
  {
   "cell_type": "markdown",
   "metadata": {},
   "source": [
    "先学习pytorch的官方文档，了解一下接下来要用到的函数\n",
    "\n",
    "torch.nn.Conv2d\n",
    ">torch.nn.Conv2d(in_channels, out_channels, kernel_size, stride=1, padding=0, dilation=1, groups=1, bias=True, padding_mode='zeros')  \n",
    ">Applies a 2D convolution over an input image composed of several input planes.  \n",
    ">in_channels (int) – Number of channels in the input image  \n",
    ">out_channels (int) – Number of channels produced by the convolution  \n",
    ">kernel_size (int or tuple) – Size of the convolving kernel  \n",
    ">stride (int or tuple, optional) – Stride of the convolution. Default: 1  \n",
    ">padding (int or tuple, optional) – Zero-padding added to both sides of the input. Default: 0  \n",
    ">padding_mode (string, optional) – zeros  \n",
    ">dilation (int or tuple, optional) – Spacing between kernel elements. Default: 1  \n",
    ">groups (int, optional) – Number of blocked connections from input channels to output channels. Default: 1  \n",
    ">bias (bool, optional) – If True, adds a learnable bias to the output. Default: True  \n",
    "\n",
    "torch.nn.Linear\n",
    ">torch.nn.Linear(in_features, out_features, bias=True)  \n",
    ">Applies a linear transformation to the incoming data: y = xA^T + b  \n",
    ">in_features – size of each input sample  \n",
    ">out_features – size of each output sample  \n",
    ">bias – If set to False, the layer will not learn an additive bias. Default: True  \n",
    "\n",
    "torch.nn.functional.relu\n",
    ">torch.nn.functional.relu(input, inplace=False) → Tensor  \n",
    ">Applies the rectified linear unit function element-wise. See ReLU for more details.  \n",
    ">functionality: max(x,0)  \n",
    ">inplace可选择是否替换原Tensor，默认为False不替换。  \n",
    "\n",
    "torch.nn.functional.max_pool2d\n",
    ">torch.nn.functional.max_pool2d(*args, **kwargs)  \n",
    ">Applies a 2D max pooling over an input signal composed of several input planes.  \n"
   ]
  },
  {
   "cell_type": "code",
   "execution_count": 79,
   "metadata": {
    "scrolled": true
   },
   "outputs": [
    {
     "name": "stdout",
     "output_type": "stream",
     "text": [
      "Net(\n",
      "  (conv1): Conv2d(1, 6, kernel_size=(3, 3), stride=(1, 1))\n",
      "  (conv2): Conv2d(6, 16, kernel_size=(3, 3), stride=(1, 1))\n",
      "  (fc1): Linear(in_features=576, out_features=120, bias=True)\n",
      "  (fc2): Linear(in_features=120, out_features=84, bias=True)\n",
      "  (fc3): Linear(in_features=84, out_features=10, bias=True)\n",
      ")\n"
     ]
    }
   ],
   "source": [
    "#define the network\n",
    "#在Net类内，构造函数初始化了各个网络的结构，forward函数将这些网络串联起来，num_flat_features将image matrix铺平，打包成一个vector\n",
    "#输入的image x(x1,x2,x3,x4), x1是samples数量，x2是初始channels数量，x3,x4是image大小\n",
    "class Net(nn.Module):\n",
    "\n",
    "    def __init__(self):\n",
    "        super(Net, self).__init__()\n",
    "        # 1 input image channel, 6 output channels, 3x3 square convolution\n",
    "        # kernel\n",
    "        self.conv1 = nn.Conv2d(1, 6, 3) #输入的in_channel是1，有6个kernel，且kernel_size=3，即filter的大小为(3,3)\n",
    "        self.conv2 = nn.Conv2d(6, 16, 3) #输入的in_channel是6,即上一层的out_channel，有16个kernel，且kernel_size=3\n",
    "        # an affine operation: y = Wx + b\n",
    "        self.fc1 = nn.Linear(16 * 6 * 6, 120)  # 6*6 from image dimension\n",
    "        self.fc2 = nn.Linear(120, 84)\n",
    "        self.fc3 = nn.Linear(84, 10)\n",
    "\n",
    "    def forward(self, x):\n",
    "        # Max pooling over a (2, 2) window\n",
    "        x = F.max_pool2d(F.relu(self.conv1(x)), (2, 2))\n",
    "        # If the size is a square you can only specify a single number\n",
    "        x = F.max_pool2d(F.relu(self.conv2(x)), 2)\n",
    "        x = x.view(-1, self.num_flat_features(x))\n",
    "        x = F.relu(self.fc1(x))\n",
    "        x = F.relu(self.fc2(x))\n",
    "        x = self.fc3(x)\n",
    "        return x\n",
    "\n",
    "    def num_flat_features(self, x):\n",
    "        size = x.size()[1:]  # all dimensions except the batch dimension\n",
    "        num_features = 1\n",
    "        for s in size:\n",
    "            num_features *= s\n",
    "        return num_features\n",
    "\n",
    "\n",
    "net = Net()\n",
    "print(net)"
   ]
  },
  {
   "cell_type": "markdown",
   "metadata": {},
   "source": [
    "查看一下各个网络层的参数数量。"
   ]
  },
  {
   "cell_type": "code",
   "execution_count": 80,
   "metadata": {},
   "outputs": [
    {
     "name": "stdout",
     "output_type": "stream",
     "text": [
      "10\n",
      "torch.Size([6, 1, 3, 3])\n",
      "torch.Size([6])\n",
      "torch.Size([16, 6, 3, 3])\n",
      "torch.Size([16])\n",
      "torch.Size([120, 576])\n",
      "torch.Size([120])\n",
      "torch.Size([84, 120])\n",
      "torch.Size([84])\n",
      "torch.Size([10, 84])\n",
      "torch.Size([10])\n"
     ]
    }
   ],
   "source": [
    "params = list(net.parameters())\n",
    "print(len(params))\n",
    "for i in range(len(params)):\n",
    "    print(params[i].size())"
   ]
  },
  {
   "cell_type": "markdown",
   "metadata": {},
   "source": [
    "用一个随机32*32的image做输入，查看整个网络的输出结果。"
   ]
  },
  {
   "cell_type": "code",
   "execution_count": 81,
   "metadata": {},
   "outputs": [
    {
     "name": "stdout",
     "output_type": "stream",
     "text": [
      "tensor([[ 0.0077,  0.0483,  0.0722,  0.0104, -0.0451, -0.0692,  0.0956, -0.0860,\n",
      "         -0.1316,  0.0710]], grad_fn=<AddmmBackward>)\n"
     ]
    }
   ],
   "source": [
    "input = torch.randn(1, 1, 32, 32)\n",
    "out = net(input)\n",
    "print(out)"
   ]
  },
  {
   "cell_type": "markdown",
   "metadata": {},
   "source": [
    "loss function的计算"
   ]
  },
  {
   "cell_type": "code",
   "execution_count": 82,
   "metadata": {},
   "outputs": [
    {
     "name": "stdout",
     "output_type": "stream",
     "text": [
      "tensor(1.4462, grad_fn=<MseLossBackward>)\n"
     ]
    }
   ],
   "source": [
    "output=net(input)\n",
    "target = torch.randn(10)  # a dummy target, for example\n",
    "target = target.view(1, -1)  # make it the same shape as output\n",
    "criterion = nn.MSELoss()\n",
    "\n",
    "loss = criterion(output, target)\n",
    "print(loss)"
   ]
  },
  {
   "cell_type": "markdown",
   "metadata": {},
   "source": [
    "反向传播，计算梯度"
   ]
  },
  {
   "cell_type": "code",
   "execution_count": 83,
   "metadata": {},
   "outputs": [
    {
     "name": "stdout",
     "output_type": "stream",
     "text": [
      "tensor([ 0.0153, -0.0259, -0.0075, -0.0272,  0.0152,  0.0061])\n"
     ]
    }
   ],
   "source": [
    "net.zero_grad()     # zeroes the gradient buffers of all parameters\n",
    "loss.backward()\n",
    "print(net.conv1.bias.grad)"
   ]
  },
  {
   "cell_type": "markdown",
   "metadata": {},
   "source": [
    "更新权重，更新公式为：\n",
    "weight = weight - learning_rate * gradient"
   ]
  },
  {
   "cell_type": "code",
   "execution_count": 84,
   "metadata": {},
   "outputs": [
    {
     "name": "stdout",
     "output_type": "stream",
     "text": [
      "tensor([[ 0.0417,  0.0545,  0.0772,  0.0236, -0.0493, -0.0634,  0.0856, -0.0976,\n",
      "         -0.1348,  0.0834]], grad_fn=<AddmmBackward>)\n"
     ]
    }
   ],
   "source": [
    "learning_rate = 0.01\n",
    "for f in net.parameters():\n",
    "    f.data.sub_(f.grad.data * learning_rate)\n",
    "    \n",
    "#或者用其它优化方法，以SGD举例\n",
    "# import torch.optim as optim\n",
    "# create your optimizer\n",
    "# optimizer = optim.SGD(net.parameters(), lr=0.01)\n",
    "# in your training loop:\n",
    "# optimizer.zero_grad()   # zero the gradient buffers\n",
    "# output = net(input)\n",
    "# loss = criterion(output, target)\n",
    "# loss.backward()\n",
    "# optimizer.step()    # Does the update\n",
    "\n",
    "output_test=net(input)\n",
    "print(output_test)"
   ]
  }
 ],
 "metadata": {
  "kernelspec": {
   "display_name": "Python 3",
   "language": "python",
   "name": "python3"
  },
  "language_info": {
   "codemirror_mode": {
    "name": "ipython",
    "version": 3
   },
   "file_extension": ".py",
   "mimetype": "text/x-python",
   "name": "python",
   "nbconvert_exporter": "python",
   "pygments_lexer": "ipython3",
   "version": "3.7.3"
  }
 },
 "nbformat": 4,
 "nbformat_minor": 2
}
