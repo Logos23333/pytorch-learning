{
 "cells": [
  {
   "cell_type": "markdown",
   "metadata": {},
   "source": [
    "Loading and normalizing CIFAR10"
   ]
  },
  {
   "cell_type": "code",
   "execution_count": null,
   "metadata": {},
   "outputs": [],
   "source": [
    "import torch\n",
    "import torchvision\n",
    "import torchvision.transforms as transforms"
   ]
  },
  {
   "cell_type": "markdown",
   "metadata": {},
   "source": [
    "torchvision.datasets.CIFAR10\n",
    ">torchvision.datasets.CIFAR10(root, train=True, transform=None, target_transform=None, download=False)  \n",
    "root (string) – Root directory of dataset where directory cifar-10-batches-py exists or will be saved to if download is set to True.  \n",
    "train (bool, optional) – If True, creates dataset from training set, otherwise creates from test set.  \n",
    "transform (callable, optional) – A function/transform that takes in an PIL image and returns a transformed version. E.g, transforms.RandomCrop  \n",
    "target_transform (callable, optional) – A function/transform that takes in the target and transforms it.  \n",
    "download (bool, optional) – If true, downloads the dataset from the internet and puts it in root directory. If dataset is already downloaded, it is not downloaded again.  \n",
    "\n",
    "注意，如果上述函数的downloard参数为True的话，程序会自动将数据集下载到指定目录，由于下载比较慢，最好手动下载。\n",
    "\n",
    "torch.utils.data.DataLoader\n",
    ">torch.utils.data.DataLoader(dataset, batch_size=1, shuffle=False, sampler=None, batch_sampler=None, num_workers=0, collate_fn=<function \n",
    ">default_collate>, pin_memory=False, drop_last=False, timeout=0, worker_init_fn=None)\n",
    "dataset (Dataset) – dataset from which to load the data.  \n",
    "batch_size (int, optional) – how many samples per batch to load (default: 1).  \n",
    "shuffle (bool, optional) – set to True to have the data reshuffled at every epoch (default: False).  \n",
    "\n",
    "shffule=True在表示不同批次的数据遍历时，打乱顺序。num_workers=2表示使用两个子进程来加载数据\n",
    "\n",
    "transforms.Compose:作用是组合不同的transforms\n",
    "\n",
    "transforms.ToTensor:作用是数据预处理，将原数据转化为[0,1]的tensor数据\n",
    "\n",
    "transforms.Normalize:数据归一化，两个参数分别是mean和std, channel= (channel-mean)/std"
   ]
  },
  {
   "cell_type": "code",
   "execution_count": null,
   "metadata": {},
   "outputs": [],
   "source": [
    "#dataset\n",
    "transform = transforms.Compose(\n",
    "    [transforms.ToTensor(),\n",
    "     transforms.Normalize((0.5, 0.5, 0.5), (0.5, 0.5, 0.5))])\n",
    "\n",
    "trainset = torchvision.datasets.CIFAR10(root='./data', train=True,\n",
    "                                        download=False, transform=transform)\n",
    "trainloader = torch.utils.data.DataLoader(trainset, batch_size=4,\n",
    "                                          shuffle=True, num_workers=2)\n",
    "\n",
    "testset = torchvision.datasets.CIFAR10(root='./data', train=False,\n",
    "                                       download=False, transform=transform)\n",
    "testloader = torch.utils.data.DataLoader(testset, batch_size=4,\n",
    "                                         shuffle=False, num_workers=2)\n",
    "\n",
    "classes = ('plane', 'car', 'bird', 'cat',\n",
    "           'deer', 'dog', 'frog', 'horse', 'ship', 'truck')"
   ]
  }
 ],
 "metadata": {
  "kernelspec": {
   "display_name": "Python 3",
   "language": "python",
   "name": "python3"
  },
  "language_info": {
   "codemirror_mode": {
    "name": "ipython",
    "version": 3
   },
   "file_extension": ".py",
   "mimetype": "text/x-python",
   "name": "python",
   "nbconvert_exporter": "python",
   "pygments_lexer": "ipython3",
   "version": "3.7.3"
  }
 },
 "nbformat": 4,
 "nbformat_minor": 2
}
